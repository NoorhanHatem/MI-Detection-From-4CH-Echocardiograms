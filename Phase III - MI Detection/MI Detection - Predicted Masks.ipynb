{
 "cells": [
  {
   "cell_type": "markdown",
   "id": "16b55c39",
   "metadata": {},
   "source": [
    "# Preprocessing The Data"
   ]
  },
  {
   "cell_type": "code",
   "execution_count": 31,
   "id": "964c53f4",
   "metadata": {},
   "outputs": [],
   "source": [
    "import pandas as pd\n",
    "from sklearn.model_selection import train_test_split\n",
    "from sklearn.preprocessing import MinMaxScaler\n",
    "from sklearn.tree import DecisionTreeClassifier\n",
    "from sklearn.linear_model import LogisticRegression\n",
    "from sklearn.ensemble import RandomForestClassifier\n",
    "from sklearn.neighbors import KNeighborsClassifier\n",
    "from sklearn.discriminant_analysis import LinearDiscriminantAnalysis\n",
    "from sklearn.svm import SVC\n",
    "from sklearn.model_selection import GridSearchCV\n",
    "from sklearn.metrics import classification_report, confusion_matrix, accuracy_score, precision_score, recall_score, f1_score"
   ]
  },
  {
   "cell_type": "code",
   "execution_count": 33,
   "id": "978cb091",
   "metadata": {},
   "outputs": [],
   "source": [
    "file_path_y =  r\"C:\\Users\\noorh\\OneDrive\\Desktop\\Grad Project\\HMC Dataset\\A4C.xlsx\"\n",
    "df_y = pd.read_excel(file_path_y)\n",
    "\n",
    "# Convert 'non-MI' to 0 and 'MI' to 1 in the SEG columns\n",
    "for col in ['SEG1', 'SEG2', 'SEG3', 'SEG5', 'SEG6', 'SEG7']:\n",
    "    df_y[col] = df_y[col].apply(lambda x: 0 if x == 'non-MI' else 1 if x == 'MI' else x)\n",
    "\n",
    "# Load the motion feature vectors\n",
    "file_path_x = r\"C:\\Users\\noorh\\Echocardiograms\\Final Submission\\motion_features.xlsx\"\n",
    "df_x = pd.read_excel(file_path_x)\n",
    "\n",
    "# Remove the \"Mask_\" prefix from 'Sub-directory Name' to match with ECHO in df_y\n",
    "#df_x['subdirectory'] = df_x['subdirectory'].str.replace('Mask_', '')\n",
    "\n",
    "\n",
    "merged_df = pd.merge(df_y, df_x, left_on='ECHO', right_on='subdirectory')\n",
    "\n",
    "X_columns = ['segment1', 'segment2', 'segment3', 'segment5', 'segment6', 'segment7']\n",
    "y_columns = ['SEG1', 'SEG2', 'SEG3', 'SEG5', 'SEG6', 'SEG7']\n",
    "\n",
    "X = merged_df[X_columns]\n",
    "y = merged_df[y_columns]\n",
    "\n",
    "# Create a single binary target column\n",
    "y['target'] = y.max(axis=1)\n",
    "\n",
    "# Normalize the features to unity\n",
    "scaler = MinMaxScaler()\n",
    "X_scaled = scaler.fit_transform(X)\n",
    "\n",
    "# Split the data into training and testing sets\n",
    "X_train, X_test, y_train, y_test = train_test_split(X_scaled, y['target'], test_size=0.2, random_state=42)"
   ]
  },
  {
   "cell_type": "code",
   "execution_count": 34,
   "id": "30d1da4d",
   "metadata": {},
   "outputs": [],
   "source": [
    "def calculate_metrics(y_test, y_pred):\n",
    "    conf_matrix = confusion_matrix(y_test, y_pred)\n",
    "    tn, fp, fn, tp = conf_matrix.ravel()\n",
    "\n",
    "    accuracy = (tp + tn) / (tp + tn + fp + fn)\n",
    "    sensitivity = tp / (tp + fn)\n",
    "    specificity = tn / (tn + fp) \n",
    "    precision = tp / (tp + fp) \n",
    "    f1 = f1_score(y_test, y_pred)\n",
    "\n",
    "    print(\"Classification Report:\\n\", classification_report(y_test, y_pred))\n",
    "    print(\"Confusion Matrix:\\n\", conf_matrix)\n",
    "    print(\"Accuracy:\", accuracy)\n",
    "    print(\"Precision:\", precision)\n",
    "    print(\"Sensitivity (Recall):\", sensitivity)\n",
    "    print(\"Specificity:\", specificity)\n",
    "    print(\"F1 Score:\", f1)"
   ]
  },
  {
   "cell_type": "markdown",
   "id": "45a8c841",
   "metadata": {},
   "source": [
    "# Decision Tree Classifier"
   ]
  },
  {
   "cell_type": "code",
   "execution_count": 15,
   "id": "8908cfaa",
   "metadata": {},
   "outputs": [
    {
     "name": "stdout",
     "output_type": "stream",
     "text": [
      "Best parameters found:  {'criterion': 'gini', 'max_depth': None, 'max_features': None, 'max_leaf_nodes': None, 'min_samples_leaf': 1, 'min_samples_split': 5, 'splitter': 'best'}\n"
     ]
    }
   ],
   "source": [
    "# Define the parameter grid for GridSearchCV\n",
    "param_grid = {\n",
    "    'criterion': ['gini', 'entropy'],\n",
    "    'splitter': ['best', 'random'],\n",
    "    'max_depth': [None, 10, 20, 30, 40, 50],\n",
    "    'min_samples_split': [2, 5, 10],\n",
    "    'min_samples_leaf': [1, 2, 4],\n",
    "    'max_features': [None, 'sqrt', 'log2'],\n",
    "    'max_leaf_nodes': [None, 10, 20, 30, 40, 50]\n",
    "}\n",
    "\n",
    "clf = DecisionTreeClassifier(random_state=42)\n",
    "\n",
    "grid_search = GridSearchCV(estimator=clf, param_grid=param_grid, cv=5, scoring='accuracy')\n",
    "grid_search.fit(X_train, y_train)\n",
    "\n",
    "# Get the best parameters\n",
    "best_params = grid_search.best_params_\n",
    "print(\"Best parameters found: \", best_params)\n",
    "\n",
    "best_model = grid_search.best_estimator_\n",
    "y_pred_best = best_model.predict(X_test)"
   ]
  },
  {
   "cell_type": "code",
   "execution_count": 16,
   "id": "d2b7c491",
   "metadata": {},
   "outputs": [
    {
     "name": "stdout",
     "output_type": "stream",
     "text": [
      "Classification Report:\n",
      "               precision    recall  f1-score   support\n",
      "\n",
      "           0       0.71      0.71      0.71         7\n",
      "           1       0.86      0.86      0.86        14\n",
      "\n",
      "    accuracy                           0.81        21\n",
      "   macro avg       0.79      0.79      0.79        21\n",
      "weighted avg       0.81      0.81      0.81        21\n",
      "\n",
      "Confusion Matrix:\n",
      " [[ 5  2]\n",
      " [ 2 12]]\n",
      "Accuracy: 0.8095238095238095\n",
      "Precision: 0.8571428571428571\n",
      "Sensitivity (Recall): 0.8571428571428571\n",
      "Specificity: 0.7142857142857143\n",
      "F1 Score: 0.8571428571428571\n"
     ]
    }
   ],
   "source": [
    "calculate_metrics(y_test, y_pred_best)"
   ]
  },
  {
   "cell_type": "markdown",
   "id": "297c56a7",
   "metadata": {},
   "source": [
    "# SVM Classifier"
   ]
  },
  {
   "cell_type": "code",
   "execution_count": 25,
   "id": "bce71e42",
   "metadata": {},
   "outputs": [
    {
     "name": "stdout",
     "output_type": "stream",
     "text": [
      "Best parameters found:  {'C': 1000, 'gamma': 0.1, 'kernel': 'rbf'}\n"
     ]
    }
   ],
   "source": [
    "# Define the parameter grid for GridSearchCV\n",
    "param_grid = {\n",
    "    'C': [0.1, 1, 10, 100, 1000],\n",
    "    'gamma': ['scale', 'auto', 0.001, 0.01, 0.1, 1],\n",
    "    'kernel': ['linear', 'poly', 'rbf', 'sigmoid']\n",
    "}\n",
    "\n",
    "clf = SVC(random_state=42)\n",
    "\n",
    "grid_search = GridSearchCV(estimator=clf, param_grid=param_grid, cv=5, scoring='accuracy')\n",
    "grid_search.fit(X_train, y_train)\n",
    "\n",
    "# Get the best parameters\n",
    "best_params = grid_search.best_params_\n",
    "print(\"Best parameters found: \", best_params)\n",
    "\n",
    "best_model = grid_search.best_estimator_\n",
    "y_pred_best = best_model.predict(X_test)"
   ]
  },
  {
   "cell_type": "code",
   "execution_count": 26,
   "id": "dc628fb5",
   "metadata": {},
   "outputs": [
    {
     "name": "stdout",
     "output_type": "stream",
     "text": [
      "Classification Report:\n",
      "               precision    recall  f1-score   support\n",
      "\n",
      "           0       0.75      0.86      0.80         7\n",
      "           1       0.92      0.86      0.89        14\n",
      "\n",
      "    accuracy                           0.86        21\n",
      "   macro avg       0.84      0.86      0.84        21\n",
      "weighted avg       0.87      0.86      0.86        21\n",
      "\n",
      "Confusion Matrix:\n",
      " [[ 6  1]\n",
      " [ 2 12]]\n",
      "Accuracy: 0.8571428571428571\n",
      "Precision: 0.9230769230769231\n",
      "Sensitivity (Recall): 0.8571428571428571\n",
      "Specificity: 0.8571428571428571\n",
      "F1 Score: 0.888888888888889\n"
     ]
    }
   ],
   "source": [
    "calculate_metrics(y_test, y_pred_best)"
   ]
  },
  {
   "cell_type": "markdown",
   "id": "26edd9e6",
   "metadata": {},
   "source": [
    "# Logistic Regression Classifier"
   ]
  },
  {
   "cell_type": "code",
   "execution_count": 35,
   "id": "5c642158",
   "metadata": {},
   "outputs": [
    {
     "name": "stdout",
     "output_type": "stream",
     "text": [
      "Best parameters found:  {'C': 0.1, 'penalty': 'none', 'solver': 'newton-cg'}\n"
     ]
    }
   ],
   "source": [
    "# Define the parameter grid for GridSearchCV\n",
    "param_grid = {\n",
    "    'C': [0.1, 1, 10, 100, 1000],\n",
    "    'penalty': ['l1', 'l2', 'elasticnet', 'none'],\n",
    "    'solver': ['newton-cg', 'lbfgs', 'liblinear', 'sag', 'saga']\n",
    "}\n",
    "\n",
    "clf = LogisticRegression(random_state=42, max_iter=10000)\n",
    "\n",
    "grid_search = GridSearchCV(estimator=clf, param_grid=param_grid, cv=5, scoring='accuracy')\n",
    "grid_search.fit(X_train, y_train)\n",
    "\n",
    "# Get the best parameters\n",
    "best_params = grid_search.best_params_\n",
    "print(\"Best parameters found: \", best_params)\n",
    "\n",
    "best_model = grid_search.best_estimator_\n",
    "y_pred_best = best_model.predict(X_test)"
   ]
  },
  {
   "cell_type": "code",
   "execution_count": 36,
   "id": "ade99c20",
   "metadata": {},
   "outputs": [
    {
     "name": "stdout",
     "output_type": "stream",
     "text": [
      "Classification Report:\n",
      "               precision    recall  f1-score   support\n",
      "\n",
      "           0       0.75      0.86      0.80         7\n",
      "           1       0.92      0.86      0.89        14\n",
      "\n",
      "    accuracy                           0.86        21\n",
      "   macro avg       0.84      0.86      0.84        21\n",
      "weighted avg       0.87      0.86      0.86        21\n",
      "\n",
      "Confusion Matrix:\n",
      " [[ 6  1]\n",
      " [ 2 12]]\n",
      "Accuracy: 0.8571428571428571\n",
      "Precision: 0.9230769230769231\n",
      "Sensitivity (Recall): 0.8571428571428571\n",
      "Specificity: 0.8571428571428571\n",
      "F1 Score: 0.888888888888889\n"
     ]
    }
   ],
   "source": [
    "calculate_metrics(y_test, y_pred_best)"
   ]
  },
  {
   "cell_type": "markdown",
   "id": "a898df26",
   "metadata": {},
   "source": [
    "# KNN Classifier "
   ]
  },
  {
   "cell_type": "code",
   "execution_count": 37,
   "id": "04af9753",
   "metadata": {},
   "outputs": [
    {
     "name": "stdout",
     "output_type": "stream",
     "text": [
      "Best parameters found:  {'metric': 'euclidean', 'n_neighbors': 3, 'weights': 'uniform'}\n"
     ]
    }
   ],
   "source": [
    "# Define the parameter grid for GridSearchCV\n",
    "param_grid = {\n",
    "    'n_neighbors': [3, 5, 7, 9, 11, 13, 15],\n",
    "    'weights': ['uniform', 'distance'],\n",
    "    'metric': ['euclidean', 'manhattan', 'minkowski']\n",
    "}\n",
    "\n",
    "clf = KNeighborsClassifier()\n",
    "\n",
    "grid_search = GridSearchCV(estimator=clf, param_grid=param_grid, cv=5, scoring='accuracy')\n",
    "grid_search.fit(X_train, y_train)\n",
    "\n",
    "# Get the best parameters\n",
    "best_params = grid_search.best_params_\n",
    "print(\"Best parameters found: \", best_params)\n",
    "\n",
    "best_model = grid_search.best_estimator_\n",
    "y_pred_best = best_model.predict(X_test)"
   ]
  },
  {
   "cell_type": "code",
   "execution_count": 38,
   "id": "cfbf69e9",
   "metadata": {},
   "outputs": [
    {
     "name": "stdout",
     "output_type": "stream",
     "text": [
      "Classification Report:\n",
      "               precision    recall  f1-score   support\n",
      "\n",
      "           0       0.50      0.43      0.46         7\n",
      "           1       0.73      0.79      0.76        14\n",
      "\n",
      "    accuracy                           0.67        21\n",
      "   macro avg       0.62      0.61      0.61        21\n",
      "weighted avg       0.66      0.67      0.66        21\n",
      "\n",
      "Confusion Matrix:\n",
      " [[ 3  4]\n",
      " [ 3 11]]\n",
      "Accuracy: 0.6666666666666666\n",
      "Precision: 0.7333333333333333\n",
      "Sensitivity (Recall): 0.7857142857142857\n",
      "Specificity: 0.42857142857142855\n",
      "F1 Score: 0.7586206896551724\n"
     ]
    }
   ],
   "source": [
    "calculate_metrics(y_test, y_pred_best)"
   ]
  },
  {
   "cell_type": "markdown",
   "id": "0c0c8b46",
   "metadata": {},
   "source": [
    "# Random Forest Classifier"
   ]
  },
  {
   "cell_type": "code",
   "execution_count": 39,
   "id": "ed2c6d83",
   "metadata": {},
   "outputs": [
    {
     "name": "stdout",
     "output_type": "stream",
     "text": [
      "Best parameters found:  {'bootstrap': True, 'max_depth': None, 'max_features': 'auto', 'min_samples_leaf': 1, 'min_samples_split': 5, 'n_estimators': 50}\n"
     ]
    }
   ],
   "source": [
    "# Define the parameter grid for GridSearchCV\n",
    "param_grid = {\n",
    "    'n_estimators': [50, 100, 200],\n",
    "    'max_features': ['auto', 'sqrt', 'log2'],\n",
    "    'max_depth': [None, 10, 20, 30, 40, 50],\n",
    "    'min_samples_split': [2, 5, 10],\n",
    "    'min_samples_leaf': [1, 2, 4],\n",
    "    'bootstrap': [True, False]\n",
    "}\n",
    "\n",
    "clf = RandomForestClassifier(random_state=42)\n",
    "\n",
    "grid_search = GridSearchCV(estimator=clf, param_grid=param_grid, cv=5, scoring='accuracy')\n",
    "grid_search.fit(X_train, y_train)\n",
    "\n",
    "# Get the best parameters\n",
    "best_params = grid_search.best_params_\n",
    "print(\"Best parameters found: \", best_params)\n",
    "\n",
    "best_model = grid_search.best_estimator_\n",
    "y_pred_best = best_model.predict(X_test)"
   ]
  },
  {
   "cell_type": "code",
   "execution_count": 40,
   "id": "7ef21294",
   "metadata": {},
   "outputs": [
    {
     "name": "stdout",
     "output_type": "stream",
     "text": [
      "Classification Report:\n",
      "               precision    recall  f1-score   support\n",
      "\n",
      "           0       0.83      0.71      0.77         7\n",
      "           1       0.87      0.93      0.90        14\n",
      "\n",
      "    accuracy                           0.86        21\n",
      "   macro avg       0.85      0.82      0.83        21\n",
      "weighted avg       0.86      0.86      0.85        21\n",
      "\n",
      "Confusion Matrix:\n",
      " [[ 5  2]\n",
      " [ 1 13]]\n",
      "Accuracy: 0.8571428571428571\n",
      "Precision: 0.8666666666666667\n",
      "Sensitivity (Recall): 0.9285714285714286\n",
      "Specificity: 0.7142857142857143\n",
      "F1 Score: 0.896551724137931\n"
     ]
    }
   ],
   "source": [
    "calculate_metrics(y_test, y_pred_best)"
   ]
  },
  {
   "cell_type": "code",
   "execution_count": null,
   "id": "1e9e4516",
   "metadata": {},
   "outputs": [],
   "source": []
  }
 ],
 "metadata": {
  "kernelspec": {
   "display_name": "Python 3 (ipykernel)",
   "language": "python",
   "name": "python3"
  },
  "language_info": {
   "codemirror_mode": {
    "name": "ipython",
    "version": 3
   },
   "file_extension": ".py",
   "mimetype": "text/x-python",
   "name": "python",
   "nbconvert_exporter": "python",
   "pygments_lexer": "ipython3",
   "version": "3.9.13"
  }
 },
 "nbformat": 4,
 "nbformat_minor": 5
}
